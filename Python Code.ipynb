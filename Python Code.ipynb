{
  "nbformat": 4,
  "nbformat_minor": 0,
  "metadata": {
    "colab": {
      "provenance": []
    },
    "kernelspec": {
      "name": "python3",
      "display_name": "Python 3"
    },
    "language_info": {
      "name": "python"
    }
  },
  "cells": [
    {
      "cell_type": "markdown",
      "source": [
        "# **Python Portfolio Project: Vehicle Manufacturing Analysis**\n",
        "\n",
        "This project demonstrates my Python skills applied to the same car dataset (car_data.csv), complementing the SQL analysis. It focuses on data manipulation, analysis, and visualization using popular Python libraries like Pandas, NumPy, Matplotlib/Seaborn, Scikit-learn.\n",
        "\n",
        "**Project Structure**:\n",
        "\n",
        "# **1. Data Loading and Cleaning**:\n",
        "\n",
        "\n",
        "\n",
        "*   Load the car_data.csv file into a Pandas DataFrame df.\n",
        "*   Handle missing values (if any). This dataset is complete, but demonstrating this step is good practice.\n",
        "\n",
        "\n",
        "*   Check and correct data types\n",
        "*   Remove duplicate rows (if any). Checking for duplicates is always important.\n",
        "\n",
        "\n"
      ],
      "metadata": {
        "id": "WYOMYHjj9AOj"
      }
    },
    {
      "cell_type": "code",
      "source": [
        "# Importing the dataset from my google drive and the necessary libraries\n",
        "import pandas as pd\n",
        "path = '/content/drive/MyDrive/Dataset/car_data.csv'\n",
        "df = pd.read_csv(path)"
      ],
      "metadata": {
        "id": "WQdDm5zA9nq-"
      },
      "execution_count": 15,
      "outputs": []
    },
    {
      "cell_type": "code",
      "source": [
        "# Check if all the variables are in correct data type\n",
        "df.info()"
      ],
      "metadata": {
        "colab": {
          "base_uri": "https://localhost:8080/"
        },
        "id": "2sbHvdgl_P7o",
        "outputId": "1d7c4581-ca54-4fa9-90e3-14871828de24"
      },
      "execution_count": 16,
      "outputs": [
        {
          "output_type": "stream",
          "name": "stdout",
          "text": [
            "<class 'pandas.core.frame.DataFrame'>\n",
            "RangeIndex: 2000 entries, 0 to 1999\n",
            "Data columns (total 8 columns):\n",
            " #   Column    Non-Null Count  Dtype \n",
            "---  ------    --------------  ----- \n",
            " 0   Car ID    2000 non-null   int64 \n",
            " 1   Brand     2000 non-null   object\n",
            " 2   Model     2000 non-null   object\n",
            " 3   Year      2000 non-null   int64 \n",
            " 4   Color     2000 non-null   object\n",
            " 5   Mileage   2000 non-null   int64 \n",
            " 6   Price     2000 non-null   int64 \n",
            " 7   Location  2000 non-null   object\n",
            "dtypes: int64(4), object(4)\n",
            "memory usage: 125.1+ KB\n"
          ]
        }
      ]
    },
    {
      "cell_type": "code",
      "source": [
        "# Another way to check for the data types is\n",
        "df.dtypes"
      ],
      "metadata": {
        "colab": {
          "base_uri": "https://localhost:8080/",
          "height": 335
        },
        "id": "_Nsbx1ozWn6Q",
        "outputId": "4fb48402-41aa-4a3f-8f3c-c538995209c8"
      },
      "execution_count": 26,
      "outputs": [
        {
          "output_type": "execute_result",
          "data": {
            "text/plain": [
              "Car ID       int64\n",
              "Brand       object\n",
              "Model       object\n",
              "Year         int64\n",
              "Color       object\n",
              "Mileage      int64\n",
              "Price        int64\n",
              "Location    object\n",
              "dtype: object"
            ],
            "text/html": [
              "<div>\n",
              "<style scoped>\n",
              "    .dataframe tbody tr th:only-of-type {\n",
              "        vertical-align: middle;\n",
              "    }\n",
              "\n",
              "    .dataframe tbody tr th {\n",
              "        vertical-align: top;\n",
              "    }\n",
              "\n",
              "    .dataframe thead th {\n",
              "        text-align: right;\n",
              "    }\n",
              "</style>\n",
              "<table border=\"1\" class=\"dataframe\">\n",
              "  <thead>\n",
              "    <tr style=\"text-align: right;\">\n",
              "      <th></th>\n",
              "      <th>0</th>\n",
              "    </tr>\n",
              "  </thead>\n",
              "  <tbody>\n",
              "    <tr>\n",
              "      <th>Car ID</th>\n",
              "      <td>int64</td>\n",
              "    </tr>\n",
              "    <tr>\n",
              "      <th>Brand</th>\n",
              "      <td>object</td>\n",
              "    </tr>\n",
              "    <tr>\n",
              "      <th>Model</th>\n",
              "      <td>object</td>\n",
              "    </tr>\n",
              "    <tr>\n",
              "      <th>Year</th>\n",
              "      <td>int64</td>\n",
              "    </tr>\n",
              "    <tr>\n",
              "      <th>Color</th>\n",
              "      <td>object</td>\n",
              "    </tr>\n",
              "    <tr>\n",
              "      <th>Mileage</th>\n",
              "      <td>int64</td>\n",
              "    </tr>\n",
              "    <tr>\n",
              "      <th>Price</th>\n",
              "      <td>int64</td>\n",
              "    </tr>\n",
              "    <tr>\n",
              "      <th>Location</th>\n",
              "      <td>object</td>\n",
              "    </tr>\n",
              "  </tbody>\n",
              "</table>\n",
              "</div><br><label><b>dtype:</b> object</label>"
            ]
          },
          "metadata": {},
          "execution_count": 26
        }
      ]
    },
    {
      "cell_type": "code",
      "source": [
        "# Check shape of dataset. The first number shows the number of rows and the second number gives us the number of columns\n",
        "df.shape"
      ],
      "metadata": {
        "colab": {
          "base_uri": "https://localhost:8080/"
        },
        "id": "OjANsoZK_j7Z",
        "outputId": "11a83f23-44b9-4539-a71b-2c3271680001"
      },
      "execution_count": 17,
      "outputs": [
        {
          "output_type": "execute_result",
          "data": {
            "text/plain": [
              "(2000, 8)"
            ]
          },
          "metadata": {},
          "execution_count": 17
        }
      ]
    },
    {
      "cell_type": "code",
      "source": [
        "# Check for duplicates\n",
        "df.duplicated().sum()"
      ],
      "metadata": {
        "colab": {
          "base_uri": "https://localhost:8080/"
        },
        "id": "rq65TfEB_1AU",
        "outputId": "9dd88f3f-d69b-44b8-d695-b4c245f4a7b3"
      },
      "execution_count": 18,
      "outputs": [
        {
          "output_type": "execute_result",
          "data": {
            "text/plain": [
              "0"
            ]
          },
          "metadata": {},
          "execution_count": 18
        }
      ]
    },
    {
      "cell_type": "markdown",
      "source": [
        "# **2. Exploratory Data Analysis (EDA)**:\n",
        "\n",
        "\n",
        "\n",
        "*   Calculate descriptive statistics (mean, median, standard deviation, quartiles) for numerical columns like 'Price' and 'Mileage'.\n",
        "*   Create histograms and box plots to visualize the distribution of these numerical variables.\n",
        "\n",
        "\n",
        "*   Explore relationships between variables using scatter plots (e.g., 'Mileage' vs. 'Price', 'Year' vs. 'Price').\n",
        "*   Analyze categorical variables ('Brand', 'Model', 'Color', 'Location') using bar charts or count plots to understand their frequencies and distributions.\n",
        "\n",
        "\n"
      ],
      "metadata": {
        "id": "kLrmnUTlBV_P"
      }
    },
    {
      "cell_type": "code",
      "source": [
        "# Descriptive Statistics\n",
        "print(df.describe())  # Provides summary statistics for numerical columns\n",
        "# Interpretation: Shows mean, std, min, max, etc. for Price and Mileage.  Gives a sense of central tendency and spread."
      ],
      "metadata": {
        "colab": {
          "base_uri": "https://localhost:8080/"
        },
        "id": "Gb3oad0AW6GW",
        "outputId": "bc4e1838-150c-4ef5-b55c-0f800ac050bd"
      },
      "execution_count": 27,
      "outputs": [
        {
          "output_type": "stream",
          "name": "stdout",
          "text": [
            "            Car ID         Year       Mileage         Price\n",
            "count  2000.000000  2000.000000   2000.000000   2000.000000\n",
            "mean   1000.500000  2017.454500  47452.500000  19605.000000\n",
            "std     577.494589     1.704812  11016.279906   4777.592249\n",
            "min       1.000000  2015.000000  25000.000000  12000.000000\n",
            "25%     500.750000  2016.000000  40000.000000  16000.000000\n",
            "50%    1000.500000  2017.000000  50000.000000  19000.000000\n",
            "75%    1500.250000  2019.000000  55000.000000  23000.000000\n",
            "max    2000.000000  2020.000000  70000.000000  29000.000000\n"
          ]
        }
      ]
    },
    {
      "cell_type": "code",
      "source": [
        "# We can also choose the columns of our choice to get the descriptive statistics isntead of the whole dataset.\n",
        "print(df[['Price', 'Mileage']].describe())"
      ],
      "metadata": {
        "colab": {
          "base_uri": "https://localhost:8080/"
        },
        "id": "OsqEfIjvBC0j",
        "outputId": "356d97c1-6734-4cff-d03d-ab081e233f9e"
      },
      "execution_count": 28,
      "outputs": [
        {
          "output_type": "stream",
          "name": "stdout",
          "text": [
            "              Price       Mileage\n",
            "count   2000.000000   2000.000000\n",
            "mean   19605.000000  47452.500000\n",
            "std     4777.592249  11016.279906\n",
            "min    12000.000000  25000.000000\n",
            "25%    16000.000000  40000.000000\n",
            "50%    19000.000000  50000.000000\n",
            "75%    23000.000000  55000.000000\n",
            "max    29000.000000  70000.000000\n"
          ]
        }
      ]
    },
    {
      "cell_type": "code",
      "source": [
        "# Lets calculate the median and mode of Price and Mileage\n",
        "price_median = df['Price'].median()\n",
        "price_mode = df['Price'].mode()[0]\n",
        "print(\"Median of Price:\", price_median)\n",
        "print(\"Mode of Price:\", price_mode)\n",
        "\n",
        "mileage_median = df['Mileage'].median()\n",
        "mileage_mode = df['Mileage'].mode()[0]\n",
        "print(\"Median of Mileage:\", mileage_median)\n",
        "print(\"Mode of Mileage:\", mileage_mode)"
      ],
      "metadata": {
        "colab": {
          "base_uri": "https://localhost:8080/"
        },
        "id": "86kYt_MlTXA7",
        "outputId": "be3e598b-177a-4905-968c-7b1f1ecb7ef3"
      },
      "execution_count": 30,
      "outputs": [
        {
          "output_type": "stream",
          "name": "stdout",
          "text": [
            "Median of Price: 19000.0\n",
            "Mode of Price: 18000\n",
            "Median of Mileage: 50000.0\n",
            "Mode of Mileage: 55000\n"
          ]
        }
      ]
    },
    {
      "cell_type": "markdown",
      "source": [
        "# **Interpretation of the Median and Mode values**\n",
        "\n",
        "## **Price**:\n",
        "\n",
        "### **Median Price**:\n",
        " This means that half of the cars in my dataset are priced below $19,000 and half are priced above. It's a good indicator of the \"middle\" price point in the data.\n",
        "\n",
        "\n",
        "### **Mode Price**:\n",
        "This is the most frequent price in my dataset. More cars are listed at $18,000 than any other price.\n",
        "Taking the median and mode of Price together suggests that:\n",
        "\n",
        "The price distribution might be slightly skewed to the right, as the mean is likely a bit higher than the median due to some higher-priced cars.\n",
        "There's a cluster of cars around the $18,000 - $19,000 price range, making it a common price point in the data.\n",
        "\n",
        "## **Mileage**:\n",
        "\n",
        "### **Median Mileage**:\n",
        "Half the cars in the dataset have mileage below 50,000 miles, and half have mileage above.\n",
        "\n",
        "\n",
        "### **Mode Mileage**:\n",
        "The most common mileage among the cars in the dataset is 55,000 miles.\n",
        "Taking the median and mode of Mileage together suggests that:\n",
        "\n",
        "The mileage distribution might be somewhat symmetrical or slightly skewed to the right, with a peak around 55,000 miles.\n",
        "There's a concentration of cars with mileage in the 50,000 - 55,000 mile range."
      ],
      "metadata": {
        "id": "hxaHDkXUYUQi"
      }
    },
    {
      "cell_type": "code",
      "source": [
        "# Histogram of Car Prices\n",
        "plt.figure(figsize=(10, 5)) # Adjust figure size for better display\n",
        "sns.histplot(df['Price'], bins=20, kde=True) # Add kde for smoother distribution visualization\n",
        "plt.title('Distribution of Car Prices') # Always good practice to use titles in your plots\n",
        "plt.xlabel('Price')\n",
        "plt.ylabel('Frequency')\n",
        "plt.show()\n",
        "# Interpretation: Shows the distribution of car prices. Is it skewed? Are there outliers?"
      ],
      "metadata": {
        "colab": {
          "base_uri": "https://localhost:8080/",
          "height": 487
        },
        "id": "a5exN_FtXrMo",
        "outputId": "1e215ac4-2c57-4d1e-c456-fc93f47e5d34"
      },
      "execution_count": 29,
      "outputs": [
        {
          "output_type": "display_data",
          "data": {
            "text/plain": [
              "<Figure size 1000x500 with 1 Axes>"
            ],
            "image/png": "[encoded data removed]"
          },
          "metadata": {}
        }
      ]
    },
    {
      "cell_type": "markdown",
      "source": [
        "# **Interpretation of the Distribution of Car Prices Histogram**\n",
        "\n",
        "**Central Tendency**: The peak of the histogram appears to be around\n",
        "18\n",
        ",\n",
        "000\n",
        "−\n",
        "18,000−\n",
        "19,000, suggesting that this is the most common price range for cars in the dataset. This corresponds to the mode of the distribution. The distribution looks somewhat bimodal, with a smaller peak around\n",
        "22\n",
        ",\n",
        "000\n",
        "−\n",
        "22,000−\n",
        "23,000.\n",
        "\n",
        "**Spread/Dispersion**: The price range spans approximately from $12,000 to $29,000. This gives us an idea of the overall price variability in the dataset. The x-axis shows the price bins, and the height of the bar represents how many cars fall into that price range.\n",
        "\n",
        "**Shape of the Distribution**: The distribution is not perfectly symmetrical. It appears to be slightly right-skewed, meaning there's a longer tail of higher prices. This suggests that there are more cars at the lower end of the price spectrum and fewer very expensive cars. The KDE plot (the curved line) makes this skewness easier to visualize. The frequencies generally decrease as the price increases.\n",
        "\n",
        "**Potential Outliers**: While there are higher priced cars above roughly $25,000, based on this visualization, there are no clear, extreme outliers. This can also be interpreted in the context of the box plot (if you generated one), which more explicitly identifies outliers.\n",
        "\n",
        "**Granularity**: The histogram uses bins of a certain width (determined by Seaborn or how you set it up in Matplotlib). The bin width can affect the appearance of the distribution. If the bins were much wider, you would lose some of the detail in the shape of the distribution. If they were narrower, you'd see more fine-grained variations, which could be noise.\n",
        "\n",
        "### **In summary**:\n",
        "\n",
        "The histogram shows that car prices in the dataset are centered around the $18,000 - $19,000 range, range from around $12,000 to $29,000, and are slightly skewed toward the higher end. There don't appear to be extreme price outliers based on the visualization. This kind of price distribution is fairly typical for used car datasets, where a majority of vehicles fall within a \"mid-range\" pricing category, with some cheaper and more expensive options at either tail.\n",
        "\n"
      ],
      "metadata": {
        "id": "afLTNWA2ZWMm"
      }
    },
    {
      "cell_type": "code",
      "source": [
        "# Histogram of Car Mileage\n",
        "plt.figure(figsize=(10, 5))\n",
        "sns.histplot(df['Mileage'], bins=20, kde=True)\n",
        "plt.title('Distribution of Car Mileage')\n",
        "plt.xlabel('Mileage')\n",
        "plt.ylabel('Frequency')\n",
        "plt.show()\n",
        "# Interpretation:  Shows mileage distribution.  Similar questions as price: Skewness? Outliers?"
      ],
      "metadata": {
        "colab": {
          "base_uri": "https://localhost:8080/",
          "height": 487
        },
        "id": "fcyJVnVbZmbU",
        "outputId": "c33b67ce-42bb-4382-9e71-64dfb85b022a"
      },
      "execution_count": 31,
      "outputs": [
        {
          "output_type": "display_data",
          "data": {
            "text/plain": [
              "<Figure size 1000x500 with 1 Axes>"
            ],
            "image/png": "[encoded data removed]"
          },
          "metadata": {}
        }
      ]
    },
    {
      "cell_type": "markdown",
      "source": [
        "# **Interpretation of the Distribution of Car Mileage Histogram**\n",
        "\n",
        "**Multimodal Distribution**: The histogram exhibits a multimodal distribution, meaning it has multiple peaks. There are prominent peaks around 35,000, 40,000, 50,000, and 55,000 miles. This pattern may suggest distinct groups or categories of cars based on their usage (e.g., low-mileage, average-mileage, high-mileage). It would be worthwhile investigating further if these peaks correlate with factors like car age, brand, model, or price.\n",
        "\n",
        "**Spread/Range**: The mileage values span from approximately 25,000 miles to 70,000 miles, indicating the range of car usage represented in the dataset. Remember: The x-axis represents mileage, and the y-axis (Frequency) is the count of cars in a given bin.\n",
        "\n",
        "**Frequency Concentrations**: The highest frequency of cars falls within the 35,000 to 60,000 mileage range. The peaks in this region indicate these are the most common mileage values. The counts for cars between 25,000 and 30,000, as well as 60,000 and 70,000, are relatively lower.\n",
        "\n",
        "**Data Collection**: The multimodal nature might reflect how the data was collected. For instance, people selling used cars often round mileages to the nearest 5,000, or dealers could have mileage brackets they use. This can lead to artificial peaks at these rounded numbers.\n",
        "\n",
        "**No Clear Outliers**: There aren't any apparent outliers in this distribution. There are no extremely low or extremely high mileage values that are significantly separated from the rest of the data. The KDE plot confirms that while there's more variation in the middle, there are no extreme deviations.\n",
        "\n",
        "### **In Summary**:\n",
        "\n",
        "The car mileage histogram displays a multimodal distribution with peaks at various mileage ranges, especially between 35,000 and 55,000 miles. Most car mileages in the dataset fall within the 35,000 to 60,000 mile range. No outliers are immediately apparent. The multiple peaks might be due to data collection practices or underlying subgroups of car usage patterns. Analyzing these mileage patterns in conjunction with other car features would provide a more complete understanding of their significance."
      ],
      "metadata": {
        "id": "UePV7l04aUSM"
      }
    },
    {
      "cell_type": "code",
      "source": [
        "# Categorical Variable Analysis (Bar Charts)\n",
        "plt.figure(figsize=(10, 5))\n",
        "sns.countplot(x='Brand', data=df, order=df['Brand'].value_counts().index)  # Order by frequency\n",
        "plt.title('Number of Cars by Brand')\n",
        "plt.xticks(rotation=45, ha='right')\n",
        "plt.show()"
      ],
      "metadata": {
        "colab": {
          "base_uri": "https://localhost:8080/",
          "height": 530
        },
        "id": "iAfa0Lzga0mj",
        "outputId": "97c80437-d951-438f-8cdc-f5bcb260593b"
      },
      "execution_count": 32,
      "outputs": [
        {
          "output_type": "display_data",
          "data": {
            "text/plain": [
              "<Figure size 1000x500 with 1 Axes>"
            ],
            "image/png": "[encoded data removed]"
          },
          "metadata": {}
        }
      ]
    },
    {
      "cell_type": "markdown",
      "source": [
        "# **Bar Chart of Number of Cars by Brand**\n",
        "\n",
        "\n",
        "\n",
        "**1**.   **Brand Representation**: The chart includes five car brands: Toyota, Honda, Ford,\n",
        "\n",
        "**2**.   **Frequency Comparison**:\n",
        "\n",
        "\n",
        "\n",
        "*   Toyota is the most frequent brand in the dataset, with the highest number of cars.\n",
        "\n",
        "\n",
        "*   Honda follows closely behind Toyota.\n",
        "\n",
        "* Ford, Chevrolet, and Hyundai have approximately similar counts which are slightly less than Toyota and Honda.\n",
        "\n",
        "**3**. **Balanced Dataset (Relatively)**:\n",
        "\n",
        "The dataset appears to be relatively balanced in terms of brand representation. While Toyota has the most entries, the difference between Toyota/Honda and the other brands is not excessive. This relatively even distribution can be beneficial for certain types of analysis (like comparing brands), although you'd still want to consider the absolute number of vehicles from each manufacturer to make sure it's statistically significant.\n",
        "\n",
        "**4**. **Market Insights (Potential):**\n",
        "\n",
        "This bar chart might reflect market share or popularity of these brands in the region or time period from which the data was collected. However, without additional context (location data, time of data collection), it's difficult to draw definitive conclusions about market share.\n"
      ],
      "metadata": {
        "id": "SIOwJlXvbN8v"
      }
    },
    {
      "cell_type": "markdown",
      "source": [
        "# **3. Data Analysis and Insights**\n",
        "\n"
      ],
      "metadata": {
        "id": "Ik1Q0qcVevL2"
      }
    },
    {
      "cell_type": "code",
      "source": [
        "# Price Analysis\n",
        "avg_price_by_brand = df.groupby('Brand')['Price'].mean()\n",
        "print(avg_price_by_brand) # Interpretation:  Provides the average price for each car brand.  Which brands are most/least expensive on average?"
      ],
      "metadata": {
        "colab": {
          "base_uri": "https://localhost:8080/"
        },
        "id": "Oi_uwcflfH8H",
        "outputId": "8bd87edb-c1b7-4d71-bf04-ae98ff5a16b7"
      },
      "execution_count": 34,
      "outputs": [
        {
          "output_type": "stream",
          "name": "stdout",
          "text": [
            "Brand\n",
            "Chevrolet    19679.687500\n",
            "Ford         19567.708333\n",
            "Honda        19635.036496\n",
            "Hyundai      19629.242820\n",
            "Toyota       19522.831050\n",
            "Name: Price, dtype: float64\n"
          ]
        }
      ]
    },
    {
      "cell_type": "code",
      "source": [
        "top_5_expensive = df.nlargest(5, 'Price')  # Much more efficient than sorting\n",
        "print(top_5_expensive)\n",
        "# Interpretation:  Lists the 5 most expensive cars in the dataset."
      ],
      "metadata": {
        "colab": {
          "base_uri": "https://localhost:8080/"
        },
        "id": "fTduM-3VfTOy",
        "outputId": "0b81d797-00a3-4e06-d4db-5bc25c5006cb"
      },
      "execution_count": 35,
      "outputs": [
        {
          "output_type": "stream",
          "name": "stdout",
          "text": [
            "     Car ID    Brand     Model  Year   Color  Mileage  Price       Location\n",
            "24       25  Hyundai  Palisade  2019  Silver    30000  29000  San Francisco\n",
            "64       65  Hyundai  Palisade  2019  Silver    30000  29000  San Francisco\n",
            "95       96     Ford      Edge  2019    Blue    30000  29000        Chicago\n",
            "135     136     Ford      Edge  2019    Blue    30000  29000        Chicago\n",
            "166     167   Toyota   4Runner  2019  Silver    30000  29000    Los Angeles\n"
          ]
        }
      ]
    },
    {
      "cell_type": "code",
      "source": [
        "price_trend = df.groupby('Year')['Price'].mean()\n",
        "print(price_trend)\n",
        "# Interpretation:  Shows the trend of average prices over the years. Increasing, decreasing, or stable?"
      ],
      "metadata": {
        "colab": {
          "base_uri": "https://localhost:8080/"
        },
        "id": "kx6iy6s3fc3a",
        "outputId": "5004e215-5fcc-485b-bb83-cd298328992c"
      },
      "execution_count": 36,
      "outputs": [
        {
          "output_type": "stream",
          "name": "stdout",
          "text": [
            "Year\n",
            "2015    19880.116959\n",
            "2016    19610.951009\n",
            "2017    19252.941176\n",
            "2018    19883.280757\n",
            "2019    19849.557522\n",
            "2020    19136.507937\n",
            "Name: Price, dtype: float64\n"
          ]
        }
      ]
    },
    {
      "cell_type": "code",
      "source": [
        "# Mileage Analysis (similar to price analysis)\n",
        "avg_mileage_by_brand = df.groupby('Brand')['Mileage'].mean()\n",
        "print(avg_mileage_by_brand)"
      ],
      "metadata": {
        "colab": {
          "base_uri": "https://localhost:8080/"
        },
        "id": "_WGjdteafiXE",
        "outputId": "41af8131-3c4b-4d96-e938-a7ac3bca758e"
      },
      "execution_count": 37,
      "outputs": [
        {
          "output_type": "stream",
          "name": "stdout",
          "text": [
            "Brand\n",
            "Chevrolet    47252.604167\n",
            "Ford         47421.875000\n",
            "Honda        47262.773723\n",
            "Hyundai      47624.020888\n",
            "Toyota       47682.648402\n",
            "Name: Mileage, dtype: float64\n"
          ]
        }
      ]
    },
    {
      "cell_type": "code",
      "source": [
        "# Location Analysis\n",
        "popular_brands_by_location = df.groupby('Location')['Brand'].agg(lambda x: x.value_counts().index[0]) # Most frequent\n",
        "print(popular_brands_by_location)\n",
        "# Interpretation: Shows the most frequent brand in each city. Which brands are dominant in different markets?"
      ],
      "metadata": {
        "colab": {
          "base_uri": "https://localhost:8080/"
        },
        "id": "Uj9JG4ddfl5V",
        "outputId": "7e334385-91f7-465c-f49a-a9189dd79392"
      },
      "execution_count": 38,
      "outputs": [
        {
          "output_type": "stream",
          "name": "stdout",
          "text": [
            "Location\n",
            "Atlanta              Honda\n",
            "Chicago               Ford\n",
            "Dallas              Toyota\n",
            "Houston          Chevrolet\n",
            "Los Angeles         Toyota\n",
            "Miami            Chevrolet\n",
            "New York             Honda\n",
            "Phoenix               Ford\n",
            "San Francisco      Hyundai\n",
            "Seattle            Hyundai\n",
            "Name: Brand, dtype: object\n"
          ]
        }
      ]
    },
    {
      "cell_type": "code",
      "source": [
        "# Correlation Analysis\n",
        "correlation = df['Mileage'].corr(df['Price'])\n",
        "print(f\"Correlation between Mileage and Price: {correlation}\")"
      ],
      "metadata": {
        "colab": {
          "base_uri": "https://localhost:8080/"
        },
        "id": "Ku1e94-yfrkx",
        "outputId": "f60bdf60-bf53-4417-9731-ab1a3df34132"
      },
      "execution_count": 39,
      "outputs": [
        {
          "output_type": "stream",
          "name": "stdout",
          "text": [
            "Correlation between Mileage and Price: -0.25845961843278625\n"
          ]
        }
      ]
    },
    {
      "cell_type": "markdown",
      "source": [
        "# **Interpretation of the Correlation Analysis**\n",
        "\n",
        "**Negative relationship**: As mileage increases, the price of the car tends to decrease. This makes intuitive sense – cars with more miles on them are generally considered to have more wear and tear and are thus less valuable.\n",
        "\n",
        "**Moderate correlation**: The relationship isn't very strong. While there's a general trend of higher mileage corresponding to lower prices, there's also a lot of variability. This means that mileage alone doesn't perfectly predict the price of a car. Other factors like make, model, condition, and age also play a significant role."
      ],
      "metadata": {
        "id": "v9zwQ7w_gOsF"
      }
    },
    {
      "cell_type": "markdown",
      "source": [
        "# 4. **Data Visualization**"
      ],
      "metadata": {
        "id": "FGDMH-Iqi987"
      }
    },
    {
      "cell_type": "code",
      "source": [
        "# Heatmap for Correlation\n",
        "import numpy as np\n",
        "numeric_df = df.select_dtypes(include=np.number) # Important: Only include numerical columns\n",
        "correlation_matrix = numeric_df.corr()\n",
        "plt.figure(figsize=(8, 6))\n",
        "sns.heatmap(correlation_matrix, annot=True, cmap='coolwarm', fmt=\".2f\") # annot=True shows values, fmt=\".2f\" rounds\n",
        "plt.title('Correlation Matrix Heatmap')\n",
        "plt.show()\n",
        "# Interpretation: Visual representation of correlations between numerical variables. Darker red indicates strong positive correlation, darker blue\n",
        "# indicates strong negative correlation."
      ],
      "metadata": {
        "colab": {
          "base_uri": "https://localhost:8080/",
          "height": 545
        },
        "id": "3L3UfgOKhAPV",
        "outputId": "63defb94-0a49-4fd4-af90-7b49c5ddf1cb"
      },
      "execution_count": 41,
      "outputs": [
        {
          "output_type": "display_data",
          "data": {
            "text/plain": [
              "<Figure size 800x600 with 2 Axes>"
            ],
            "image/png": "[encoded data removed]"
          },
          "metadata": {}
        }
      ]
    },
    {
      "cell_type": "markdown",
      "source": [
        "# **Correlation Matrix Heatmap**\n",
        "\n",
        "**1. Variables**: The heatmap includes 'Car ID', 'Year', 'Mileage', and 'Price'. Each variable is represented on both the x and y axes.\n",
        "\n",
        "**2. Correlation Coefficient**: Each cell in the heatmap represents the correlation coefficient between the corresponding row and column variables. The correlation coefficient ranges from -1 to +1:\n",
        "\n",
        "* +1: Perfect positive correlation (as one variable increases, the other increases proportionally).\n",
        "\n",
        "* -1: Perfect negative correlation (as one variable increases, the other decreases proportionally).\n",
        "\n",
        "* 0: No linear correlation (the variables don't have a linear relationship).\n",
        "\n",
        "**3. Color Intensity and Scale**: The color intensity represents the strength of the correlation. The color bar on the right provides the scale. In this case, it appears:\n",
        "\n",
        "* Dark red represents strong positive correlation (closer to +1).\n",
        "\n",
        "* Dark blue represents strong negative correlation (closer to -1).\n",
        "\n",
        "* Lighter shades indicate weaker correlations (closer to 0).\n",
        "\n",
        "**4. Diagonal**: The diagonal of the heatmap always shows a perfect positive correlation (+1) because each variable is perfectly correlated with itself.\n",
        "\n",
        "**Key Interpretations**:\n",
        "\n",
        "* **Mileage and Price**: There's a moderate negative correlation (-0.26) between mileage and price. This suggests that, in general, cars with higher mileage tend to have lower prices, which is a typical relationship in the used car market.\n",
        "\n",
        "* **Year and Price**: There is a very slight negative correlation (-0.02) between year and price. This is weak and suggests that the year of the car is not a strong predictor of price in my current dataset. (This might be surprising, and it's important to investigate why this might be the case. Are there other factors dominating price? Is the range of years relatively narrow?).\n",
        "\n",
        "* **Year and Mileage**: A weak negative correlation (-0.01) exists between 'Year' and 'Mileage'. Older cars tend to have slightly higher mileage, but the relationship is very weak.\n",
        "\n",
        "\n",
        "\n",
        "\n"
      ],
      "metadata": {
        "id": "JBdyl04kheqt"
      }
    },
    {
      "cell_type": "markdown",
      "source": [
        "# **5. Advanced Analysis**"
      ],
      "metadata": {
        "id": "Fd0rmbOsjF5P"
      }
    },
    {
      "cell_type": "code",
      "source": [
        "# Label Encoding for Categorical Features (essential for regression and clustering)\n",
        "import sklearn\n",
        "from sklearn.preprocessing import LabelEncoder\n",
        "label_encoder = LabelEncoder()\n",
        "# Import LinearRegression\n",
        "from sklearn.linear_model import LinearRegression\n",
        "label_encoder = LabelEncoder()\n",
        "# Import train_test_split\n",
        "from sklearn.model_selection import train_test_split\n",
        "label_encoder = LabelEncoder()\n",
        "# Import mean_squared_error and r2_score\n",
        "from sklearn.metrics import mean_squared_error, r2_score # This line is added\n",
        "for col in ['Brand', 'Model', 'Color', 'Location']: # All my object/categorical columns\n",
        "    df[col] = label_encoder.fit_transform(df[col])\n",
        "\n",
        "# Linear Regression\n",
        "X = df.drop('Price', axis=1)  # Features (all columns except 'Price')\n",
        "y = df['Price']  # Target variable\n",
        "X_train, X_test, y_train, y_test = train_test_split(X, y, test_size=0.2, random_state=42)\n",
        "\n",
        "model = LinearRegression()\n",
        "model.fit(X_train, y_train)\n",
        "\n",
        "y_pred = model.predict(X_test)\n",
        "\n",
        "mse = mean_squared_error(y_test, y_pred)\n",
        "r2 = r2_score(y_test, y_pred)\n",
        "\n",
        "print(f\"Mean Squared Error: {mse}\")\n",
        "print(f\"R-squared: {r2}\")"
      ],
      "metadata": {
        "colab": {
          "base_uri": "https://localhost:8080/"
        },
        "id": "sckrC_bajO1_",
        "outputId": "3fcb4761-ab1f-4aae-ffbc-da4007dddc71"
      },
      "execution_count": 47,
      "outputs": [
        {
          "output_type": "stream",
          "name": "stdout",
          "text": [
            "Mean Squared Error: 20062390.552880287\n",
            "R-squared: 0.0442131289920783\n"
          ]
        }
      ]
    },
    {
      "cell_type": "markdown",
      "source": [
        "# **Regression Analysis Interpretation**\n",
        "\n",
        "**Mean Squared Error (MSE)**:\n",
        "\n",
        "The MSE represents the average squared difference between my model's predicted car prices (y_pred) and the actual car prices (y_test) in my test dataset. A lower MSE indicates better model performance, meaning the predictions are closer to the actual values. An MSE of over 20 million is quite high and indicates that this model's predictions are, on average, quite far from the true prices.\n",
        "\n",
        "**R-squared:**\n",
        "\n",
        "The R-squared value (coefficient of determination) measures the proportion of the variance in the target variable ('Price') that is explained by my model's features. It ranges from 0 to 1.\n",
        "\n",
        "* An R-squared of 1 indicates that the model perfectly explains all the variability in the 'Price'.\n",
        "\n",
        "* An R-squared of 0 means that the model does not explain any of the variability.\n",
        "\n",
        "* The R-squared value of 0.044 is very low. This means that my model only explains about 4.4% of the variation in car prices. The remaining 95.6% of the price variability is not captured by the current model.\n",
        "\n",
        "A low R-squared and a high MSE indicate that my linear regression model is not performing well in predicting car prices. There are several reasons why this might be the case:\n",
        "\n",
        "* **1. Non-Linear Relationships**: A linear regression model assumes a linear relationship between the features and the target variable. If the relationships in the data are non-linear, the model won't be able to capture them effectively.\n",
        "\n",
        "* **2. Missing Important Features**: The model's poor performance could be because it's missing essential predictive features. Factors like car condition, specific model trim levels, optional features, or market demand are not in the current dataset and might be much better predictors of price.\n",
        "\n",
        "* **Insufficient Data**: While I have a decent number of rows, more data can often improve the model performance, especially if I want to capture complex interactions between features.\n",
        "\n"
      ],
      "metadata": {
        "id": "VAuieRD5lfZl"
      }
    }
  ]
}